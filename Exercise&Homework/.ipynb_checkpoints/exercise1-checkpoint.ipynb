{
 "cells": [
  {
   "cell_type": "markdown",
   "id": "c7f4a25d",
   "metadata": {},
   "source": [
    "## Exercise 1. Check the packages installed"
   ]
  },
  {
   "cell_type": "code",
   "execution_count": null,
   "id": "d616d522",
   "metadata": {},
   "outputs": [],
   "source": [
    "conda list"
   ]
  },
  {
   "cell_type": "markdown",
   "id": "4c496854",
   "metadata": {},
   "source": [
    "## Exercise 2. Download `wiki_edit` data"
   ]
  },
  {
   "cell_type": "markdown",
   "id": "e1020e10",
   "metadata": {},
   "source": [
    "#### Doenload ✅"
   ]
  },
  {
   "cell_type": "markdown",
   "id": "5a525bd0",
   "metadata": {},
   "source": [
    "## Exercise 3. Use `load_table` load the `wiki_edit` file"
   ]
  },
  {
   "cell_type": "code",
   "execution_count": 15,
   "id": "5bad7bf2",
   "metadata": {},
   "outputs": [],
   "source": [
    "import pandas as pd\n",
    "\n",
    "column_names = ['RevisonId','ArticleId','Timestamp','Editor']\n",
    "\n",
    "data = pd.read_table(\"wiki_edit.txt\", sep=' ', header=None, names=column_names)"
   ]
  },
  {
   "cell_type": "code",
   "execution_count": 16,
   "id": "c3885866",
   "metadata": {},
   "outputs": [
    {
     "data": {
      "text/html": [
       "<div>\n",
       "<style scoped>\n",
       "    .dataframe tbody tr th:only-of-type {\n",
       "        vertical-align: middle;\n",
       "    }\n",
       "\n",
       "    .dataframe tbody tr th {\n",
       "        vertical-align: top;\n",
       "    }\n",
       "\n",
       "    .dataframe thead th {\n",
       "        text-align: right;\n",
       "    }\n",
       "</style>\n",
       "<table border=\"1\" class=\"dataframe\">\n",
       "  <thead>\n",
       "    <tr style=\"text-align: right;\">\n",
       "      <th></th>\n",
       "      <th>RevisonId</th>\n",
       "      <th>ArticleId</th>\n",
       "      <th>Timestamp</th>\n",
       "      <th>Editor</th>\n",
       "    </tr>\n",
       "  </thead>\n",
       "  <tbody>\n",
       "    <tr>\n",
       "      <th>0</th>\n",
       "      <td>9019643</td>\n",
       "      <td>Anarchism</td>\n",
       "      <td>2005-01-01</td>\n",
       "      <td>ip:24.136.172.37</td>\n",
       "    </tr>\n",
       "    <tr>\n",
       "      <th>1</th>\n",
       "      <td>9062018</td>\n",
       "      <td>Anarchism</td>\n",
       "      <td>2005-01-03</td>\n",
       "      <td>ip:137.53.22.23</td>\n",
       "    </tr>\n",
       "    <tr>\n",
       "      <th>2</th>\n",
       "      <td>9085524</td>\n",
       "      <td>Anarchism</td>\n",
       "      <td>2005-01-03</td>\n",
       "      <td>ip:24.42.90.254</td>\n",
       "    </tr>\n",
       "    <tr>\n",
       "      <th>3</th>\n",
       "      <td>9140836</td>\n",
       "      <td>Anarchism</td>\n",
       "      <td>2005-01-06</td>\n",
       "      <td>ip:69.61.184.201</td>\n",
       "    </tr>\n",
       "    <tr>\n",
       "      <th>4</th>\n",
       "      <td>9160986</td>\n",
       "      <td>A</td>\n",
       "      <td>2005-01-06</td>\n",
       "      <td>Fvw</td>\n",
       "    </tr>\n",
       "  </tbody>\n",
       "</table>\n",
       "</div>"
      ],
      "text/plain": [
       "   RevisonId  ArticleId   Timestamp            Editor\n",
       "0    9019643  Anarchism  2005-01-01  ip:24.136.172.37\n",
       "1    9062018  Anarchism  2005-01-03   ip:137.53.22.23\n",
       "2    9085524  Anarchism  2005-01-03   ip:24.42.90.254\n",
       "3    9140836  Anarchism  2005-01-06  ip:69.61.184.201\n",
       "4    9160986          A  2005-01-06               Fvw"
      ]
     },
     "execution_count": 16,
     "metadata": {},
     "output_type": "execute_result"
    }
   ],
   "source": [
    "data.head()"
   ]
  },
  {
   "cell_type": "markdown",
   "id": "aaf1425a",
   "metadata": {},
   "source": [
    "#### a. Find top-5 articals that have received the highest number of edits."
   ]
  },
  {
   "cell_type": "code",
   "execution_count": 20,
   "id": "e40a1ae1",
   "metadata": {},
   "outputs": [
    {
     "data": {
      "text/plain": [
       "2004_Indian_Ocean_earthquake                                 186\n",
       "Humanitarian_response_to_the_2004_Indian_Ocean_earthquake     84\n",
       "Tsunami                                                       64\n",
       "Donations_for_victims_of_the_2004_Indian_Ocean_earthquake     55\n",
       "January_2005                                                  54\n",
       "Name: ArticleId, dtype: int64"
      ]
     },
     "execution_count": 20,
     "metadata": {},
     "output_type": "execute_result"
    }
   ],
   "source": [
    "data[\"ArticleId\"].value_counts().head()"
   ]
  },
  {
   "cell_type": "markdown",
   "id": "7b3c2c75",
   "metadata": {},
   "source": [
    "#### b. Find top-5 editors who have edited the most number of articles."
   ]
  },
  {
   "cell_type": "code",
   "execution_count": 24,
   "id": "c140c47c",
   "metadata": {},
   "outputs": [
    {
     "data": {
      "text/plain": [
       "CanisRufus       241\n",
       "Jerryseinfeld    224\n",
       "SimonP           209\n",
       "Pcpcpc           206\n",
       "Grutness         175\n",
       "Name: Editor, dtype: int64"
      ]
     },
     "execution_count": 24,
     "metadata": {},
     "output_type": "execute_result"
    }
   ],
   "source": [
    "data[\"Editor\"].value_counts().head()"
   ]
  },
  {
   "cell_type": "code",
   "execution_count": 25,
   "id": "113410bc",
   "metadata": {},
   "outputs": [
    {
     "data": {
      "text/plain": [
       "CanisRufus       241\n",
       "SimonP           206\n",
       "Pcpcpc           203\n",
       "Grutness         175\n",
       "Jerryseinfeld    160\n",
       "Name: Editor, dtype: int64"
      ]
     },
     "execution_count": 25,
     "metadata": {},
     "output_type": "execute_result"
    }
   ],
   "source": [
    "#If we want to look at the top-5 editors who have edited unique articals.\n",
    "new_d = data.drop_duplicates(subset=['ArticleId', 'Editor'])\n",
    "new_d[\"Editor\"].value_counts().head()"
   ]
  },
  {
   "cell_type": "markdown",
   "id": "8058e839",
   "metadata": {},
   "source": [
    "## Exercise 4. Download JSON data file. Find top 15 most frequent terms"
   ]
  },
  {
   "cell_type": "markdown",
   "id": "afc275d0",
   "metadata": {},
   "source": [
    "#### Doenload ✅"
   ]
  },
  {
   "cell_type": "code",
   "execution_count": 72,
   "id": "c924c410",
   "metadata": {},
   "outputs": [
    {
     "data": {
      "text/html": [
       "<div>\n",
       "<style scoped>\n",
       "    .dataframe tbody tr th:only-of-type {\n",
       "        vertical-align: middle;\n",
       "    }\n",
       "\n",
       "    .dataframe tbody tr th {\n",
       "        vertical-align: top;\n",
       "    }\n",
       "\n",
       "    .dataframe thead th {\n",
       "        text-align: right;\n",
       "    }\n",
       "</style>\n",
       "<table border=\"1\" class=\"dataframe\">\n",
       "  <thead>\n",
       "    <tr style=\"text-align: right;\">\n",
       "      <th></th>\n",
       "      <th>contributors</th>\n",
       "      <th>truncated</th>\n",
       "      <th>text</th>\n",
       "      <th>is_quote_status</th>\n",
       "      <th>in_reply_to_status_id</th>\n",
       "      <th>id</th>\n",
       "      <th>favorite_count</th>\n",
       "      <th>entities</th>\n",
       "      <th>retweeted</th>\n",
       "      <th>coordinates</th>\n",
       "      <th>...</th>\n",
       "      <th>in_reply_to_user_id_str</th>\n",
       "      <th>possibly_sensitive</th>\n",
       "      <th>lang</th>\n",
       "      <th>created_at</th>\n",
       "      <th>in_reply_to_status_id_str</th>\n",
       "      <th>place</th>\n",
       "      <th>metadata</th>\n",
       "      <th>quoted_status_id</th>\n",
       "      <th>quoted_status_id_str</th>\n",
       "      <th>extended_entities</th>\n",
       "    </tr>\n",
       "  </thead>\n",
       "  <tbody>\n",
       "    <tr>\n",
       "      <th>0</th>\n",
       "      <td>NaN</td>\n",
       "      <td>False</td>\n",
       "      <td>RT @internetarchive: New Lenses on the First S...</td>\n",
       "      <td>False</td>\n",
       "      <td>NaN</td>\n",
       "      <td>817439820310052864</td>\n",
       "      <td>0</td>\n",
       "      <td>{'symbols': [], 'user_mentions': [{'id': 18957...</td>\n",
       "      <td>False</td>\n",
       "      <td>NaN</td>\n",
       "      <td>...</td>\n",
       "      <td>NaN</td>\n",
       "      <td>0.0</td>\n",
       "      <td>en</td>\n",
       "      <td>2017-01-06 18:36:55+00:00</td>\n",
       "      <td>NaN</td>\n",
       "      <td>NaN</td>\n",
       "      <td>{'iso_language_code': 'en', 'result_type': 're...</td>\n",
       "      <td>NaN</td>\n",
       "      <td>NaN</td>\n",
       "      <td>NaN</td>\n",
       "    </tr>\n",
       "    <tr>\n",
       "      <th>1</th>\n",
       "      <td>NaN</td>\n",
       "      <td>False</td>\n",
       "      <td>RT @VPLive: Happening now: Watch @VP Biden at ...</td>\n",
       "      <td>False</td>\n",
       "      <td>NaN</td>\n",
       "      <td>817113661768613890</td>\n",
       "      <td>0</td>\n",
       "      <td>{'symbols': [], 'user_mentions': [{'id': 70330...</td>\n",
       "      <td>False</td>\n",
       "      <td>NaN</td>\n",
       "      <td>...</td>\n",
       "      <td>NaN</td>\n",
       "      <td>0.0</td>\n",
       "      <td>en</td>\n",
       "      <td>2017-01-05 21:00:52+00:00</td>\n",
       "      <td>NaN</td>\n",
       "      <td>NaN</td>\n",
       "      <td>{'iso_language_code': 'en', 'result_type': 're...</td>\n",
       "      <td>NaN</td>\n",
       "      <td>NaN</td>\n",
       "      <td>NaN</td>\n",
       "    </tr>\n",
       "    <tr>\n",
       "      <th>2</th>\n",
       "      <td>NaN</td>\n",
       "      <td>False</td>\n",
       "      <td>RT @vj44: Workday is a euphemism! We've the ho...</td>\n",
       "      <td>True</td>\n",
       "      <td>NaN</td>\n",
       "      <td>817113172079472644</td>\n",
       "      <td>0</td>\n",
       "      <td>{'symbols': [], 'user_mentions': [{'id': 59551...</td>\n",
       "      <td>False</td>\n",
       "      <td>NaN</td>\n",
       "      <td>...</td>\n",
       "      <td>NaN</td>\n",
       "      <td>NaN</td>\n",
       "      <td>en</td>\n",
       "      <td>2017-01-05 20:58:56+00:00</td>\n",
       "      <td>NaN</td>\n",
       "      <td>NaN</td>\n",
       "      <td>{'iso_language_code': 'en', 'result_type': 're...</td>\n",
       "      <td>8.171058e+17</td>\n",
       "      <td>8.171058e+17</td>\n",
       "      <td>NaN</td>\n",
       "    </tr>\n",
       "  </tbody>\n",
       "</table>\n",
       "<p>3 rows × 29 columns</p>\n",
       "</div>"
      ],
      "text/plain": [
       "   contributors  truncated                                               text  \\\n",
       "0           NaN      False  RT @internetarchive: New Lenses on the First S...   \n",
       "1           NaN      False  RT @VPLive: Happening now: Watch @VP Biden at ...   \n",
       "2           NaN      False  RT @vj44: Workday is a euphemism! We've the ho...   \n",
       "\n",
       "   is_quote_status  in_reply_to_status_id                  id  favorite_count  \\\n",
       "0            False                    NaN  817439820310052864               0   \n",
       "1            False                    NaN  817113661768613890               0   \n",
       "2             True                    NaN  817113172079472644               0   \n",
       "\n",
       "                                            entities  retweeted  coordinates  \\\n",
       "0  {'symbols': [], 'user_mentions': [{'id': 18957...      False          NaN   \n",
       "1  {'symbols': [], 'user_mentions': [{'id': 70330...      False          NaN   \n",
       "2  {'symbols': [], 'user_mentions': [{'id': 59551...      False          NaN   \n",
       "\n",
       "   ... in_reply_to_user_id_str  possibly_sensitive  lang  \\\n",
       "0  ...                     NaN                 0.0    en   \n",
       "1  ...                     NaN                 0.0    en   \n",
       "2  ...                     NaN                 NaN    en   \n",
       "\n",
       "                 created_at  in_reply_to_status_id_str  place  \\\n",
       "0 2017-01-06 18:36:55+00:00                        NaN    NaN   \n",
       "1 2017-01-05 21:00:52+00:00                        NaN    NaN   \n",
       "2 2017-01-05 20:58:56+00:00                        NaN    NaN   \n",
       "\n",
       "                                            metadata quoted_status_id  \\\n",
       "0  {'iso_language_code': 'en', 'result_type': 're...              NaN   \n",
       "1  {'iso_language_code': 'en', 'result_type': 're...              NaN   \n",
       "2  {'iso_language_code': 'en', 'result_type': 're...     8.171058e+17   \n",
       "\n",
       "   quoted_status_id_str  extended_entities  \n",
       "0                   NaN                NaN  \n",
       "1                   NaN                NaN  \n",
       "2          8.171058e+17                NaN  \n",
       "\n",
       "[3 rows x 29 columns]"
      ]
     },
     "execution_count": 72,
     "metadata": {},
     "output_type": "execute_result"
    }
   ],
   "source": [
    "#Load the data\n",
    "wh = pd.read_json('wh.json',lines=True)\n",
    "wh.head(3)"
   ]
  },
  {
   "cell_type": "code",
   "execution_count": 73,
   "id": "9ef33186",
   "metadata": {},
   "outputs": [
    {
     "data": {
      "text/plain": [
       "RT              34\n",
       "the             28\n",
       "to              27\n",
       "of              22\n",
       "our             10\n",
       "@vj44:           9\n",
       "that             9\n",
       "@POTUS           9\n",
       "in               9\n",
       "and              9\n",
       "a                9\n",
       "for              8\n",
       "you              8\n",
       "@WhiteHouse:     8\n",
       "my               7\n",
       "dtype: int64"
      ]
     },
     "execution_count": 73,
     "metadata": {},
     "output_type": "execute_result"
    }
   ],
   "source": [
    "# counts the top 15 frequent term of from column text\n",
    "top15 = wh[\"text\"].str.split(expand=True).stack().value_counts().head(15)\n",
    "top15"
   ]
  },
  {
   "cell_type": "code",
   "execution_count": null,
   "id": "c6c672be",
   "metadata": {},
   "outputs": [],
   "source": []
  }
 ],
 "metadata": {
  "kernelspec": {
   "display_name": "Python 3 (ipykernel)",
   "language": "python",
   "name": "python3"
  },
  "language_info": {
   "codemirror_mode": {
    "name": "ipython",
    "version": 3
   },
   "file_extension": ".py",
   "mimetype": "text/x-python",
   "name": "python",
   "nbconvert_exporter": "python",
   "pygments_lexer": "ipython3",
   "version": "3.9.12"
  }
 },
 "nbformat": 4,
 "nbformat_minor": 5
}
