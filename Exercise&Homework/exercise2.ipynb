{
 "cells": [
  {
   "cell_type": "markdown",
   "id": "5dce1309",
   "metadata": {},
   "source": [
    "## Question 1. \n",
    "#### Create Twitter Account "
   ]
  },
  {
   "cell_type": "markdown",
   "id": "a60d1e81",
   "metadata": {},
   "source": [
    "* create account ✅\n",
    "* save api key ✅\n",
    "* save api key secret ✅\n",
    "* save access tokens ✅\n"
   ]
  },
  {
   "cell_type": "markdown",
   "id": "625cdafc",
   "metadata": {},
   "source": [
    "## Question 2. \n",
    "#### Download 30 most recent tweets from the Twitter user named “CDCgov” and save the information as `cdcgov.txt` file"
   ]
  },
  {
   "cell_type": "code",
   "execution_count": 2,
   "id": "d4c8cf9a",
   "metadata": {},
   "outputs": [],
   "source": [
    "#pip install tweepy"
   ]
  },
  {
   "cell_type": "markdown",
   "id": "be3cd99e",
   "metadata": {},
   "source": [
    "**a. Import all the packages we are going to use ⬇️**"
   ]
  },
  {
   "cell_type": "code",
   "execution_count": 4,
   "id": "d2d37f04",
   "metadata": {},
   "outputs": [],
   "source": [
    "import tweepy\n",
    "from tweepy import OAuthHandler\n",
    "from tweepy import API\n",
    "import pandas as pd"
   ]
  },
  {
   "cell_type": "code",
   "execution_count": 9,
   "id": "81037941",
   "metadata": {},
   "outputs": [],
   "source": [
    "import configparser"
   ]
  },
  {
   "cell_type": "markdown",
   "id": "72dc68f8",
   "metadata": {},
   "source": [
    "**b. Load the access key, etc. ⬇️**"
   ]
  },
  {
   "cell_type": "code",
   "execution_count": 13,
   "id": "b8ae6702",
   "metadata": {},
   "outputs": [],
   "source": [
    "config = configparser.ConfigParser()\n",
    "config.read('config.ini')\n",
    "\n",
    "api_key = config['twitter']['api_key']\n",
    "api_key_secret = config['twitter']['api_key_secret']\n",
    "\n",
    "access_token = config['twitter']['access_token']\n",
    "access_token_secret = config['twitter']['access_token_secret']"
   ]
  },
  {
   "cell_type": "markdown",
   "id": "e2aa53c8",
   "metadata": {},
   "source": [
    "**c. Getting authentication ⬇️**"
   ]
  },
  {
   "cell_type": "code",
   "execution_count": 25,
   "id": "aa2a8354",
   "metadata": {},
   "outputs": [],
   "source": [
    "auth = tweepy.OAuthHandler(api_key, api_key_secret)\n",
    "auth.set_access_token(access_token,access_token_secret)\n",
    "api = tweepy.API(auth)"
   ]
  },
  {
   "cell_type": "code",
   "execution_count": 26,
   "id": "e1279bd7",
   "metadata": {},
   "outputs": [],
   "source": [
    "publictweets = api.home_timeline()"
   ]
  },
  {
   "cell_type": "markdown",
   "id": "31b0f0ea",
   "metadata": {},
   "source": [
    "**d. Set keyword/user name ⬇️**"
   ]
  },
  {
   "cell_type": "code",
   "execution_count": 8,
   "id": "000c0a5d",
   "metadata": {},
   "outputs": [],
   "source": [
    "user = 'CDCgov'\n",
    "tm = 'extended'\n",
    "limit = 100\n",
    "\n",
    "tweets = tweepy.Cursor(api.user_timeline, screen_name = user, tweet_mode = tm).items(limit)"
   ]
  },
  {
   "cell_type": "markdown",
   "id": "2498b3d3",
   "metadata": {},
   "source": [
    "**e. Save the data from twitter in pandas dataframe ⬇️**"
   ]
  },
  {
   "cell_type": "code",
   "execution_count": 9,
   "id": "aeba0f45",
   "metadata": {},
   "outputs": [],
   "source": [
    "df = []\n",
    "columns = [\"Timeline\",\"User\",\"tweet\"]\n",
    "\n",
    "for tweet in tweets:\n",
    "    df.append([tweet.created_at,tweet.user.screen_name,tweet.full_text])\n",
    "    \n",
    "data = pd.DataFrame(df,columns=columns)"
   ]
  },
  {
   "cell_type": "code",
   "execution_count": 11,
   "id": "8c2fa516",
   "metadata": {},
   "outputs": [
    {
     "data": {
      "text/html": [
       "<div>\n",
       "<style scoped>\n",
       "    .dataframe tbody tr th:only-of-type {\n",
       "        vertical-align: middle;\n",
       "    }\n",
       "\n",
       "    .dataframe tbody tr th {\n",
       "        vertical-align: top;\n",
       "    }\n",
       "\n",
       "    .dataframe thead th {\n",
       "        text-align: right;\n",
       "    }\n",
       "</style>\n",
       "<table border=\"1\" class=\"dataframe\">\n",
       "  <thead>\n",
       "    <tr style=\"text-align: right;\">\n",
       "      <th></th>\n",
       "      <th>Timeline</th>\n",
       "      <th>User</th>\n",
       "      <th>tweet</th>\n",
       "    </tr>\n",
       "  </thead>\n",
       "  <tbody>\n",
       "    <tr>\n",
       "      <th>0</th>\n",
       "      <td>2022-09-28 21:12:47+00:00</td>\n",
       "      <td>CDCgov</td>\n",
       "      <td>RT @CDCEnvironment: Be safe if the power goes ...</td>\n",
       "    </tr>\n",
       "    <tr>\n",
       "      <th>1</th>\n",
       "      <td>2022-09-28 20:30:04+00:00</td>\n",
       "      <td>CDCgov</td>\n",
       "      <td>#DYK you can get either Moderna or Pfizer-BioN...</td>\n",
       "    </tr>\n",
       "    <tr>\n",
       "      <th>2</th>\n",
       "      <td>2022-09-28 20:20:31+00:00</td>\n",
       "      <td>CDCgov</td>\n",
       "      <td>RT @CDCEnvironment: Your area may be affected ...</td>\n",
       "    </tr>\n",
       "    <tr>\n",
       "      <th>3</th>\n",
       "      <td>2022-09-28 19:46:21+00:00</td>\n",
       "      <td>CDCgov</td>\n",
       "      <td>RT @988Lifeline: As #SPM22 comes to an end rem...</td>\n",
       "    </tr>\n",
       "    <tr>\n",
       "      <th>4</th>\n",
       "      <td>2022-09-28 19:03:59+00:00</td>\n",
       "      <td>CDCgov</td>\n",
       "      <td>RT @CDCDirector: CDC continues to work on a po...</td>\n",
       "    </tr>\n",
       "    <tr>\n",
       "      <th>5</th>\n",
       "      <td>2022-09-28 19:03:55+00:00</td>\n",
       "      <td>CDCgov</td>\n",
       "      <td>RT @CDCDirector: Remember, JYNNEOS #monkeypox ...</td>\n",
       "    </tr>\n",
       "    <tr>\n",
       "      <th>6</th>\n",
       "      <td>2022-09-28 19:03:46+00:00</td>\n",
       "      <td>CDCgov</td>\n",
       "      <td>RT @CDCDirector: Today, CDC posted preliminary...</td>\n",
       "    </tr>\n",
       "    <tr>\n",
       "      <th>7</th>\n",
       "      <td>2022-09-28 19:00:14+00:00</td>\n",
       "      <td>CDCgov</td>\n",
       "      <td>CDC announces expanded eligibility for #monkey...</td>\n",
       "    </tr>\n",
       "    <tr>\n",
       "      <th>8</th>\n",
       "      <td>2022-09-28 17:12:06+00:00</td>\n",
       "      <td>CDCgov</td>\n",
       "      <td>Monkeypox Update: As of Sept 27th , 66,551 con...</td>\n",
       "    </tr>\n",
       "    <tr>\n",
       "      <th>9</th>\n",
       "      <td>2022-09-28 16:30:06+00:00</td>\n",
       "      <td>CDCgov</td>\n",
       "      <td>CDC announces expanded eligibility for monkeyp...</td>\n",
       "    </tr>\n",
       "    <tr>\n",
       "      <th>10</th>\n",
       "      <td>2022-09-28 16:14:41+00:00</td>\n",
       "      <td>CDCgov</td>\n",
       "      <td>Prevent food poisoning from #CrossContaminatio...</td>\n",
       "    </tr>\n",
       "    <tr>\n",
       "      <th>11</th>\n",
       "      <td>2022-09-28 15:00:23+00:00</td>\n",
       "      <td>CDCgov</td>\n",
       "      <td>Today is World Rabies Day! Learn how CDC and p...</td>\n",
       "    </tr>\n",
       "    <tr>\n",
       "      <th>12</th>\n",
       "      <td>2022-09-28 13:33:40+00:00</td>\n",
       "      <td>CDCgov</td>\n",
       "      <td>RT @CDCemergency: #BeReady for a power outage....</td>\n",
       "    </tr>\n",
       "    <tr>\n",
       "      <th>13</th>\n",
       "      <td>2022-09-28 12:00:14+00:00</td>\n",
       "      <td>CDCgov</td>\n",
       "      <td>Have you lost power? Keep your food at safe te...</td>\n",
       "    </tr>\n",
       "    <tr>\n",
       "      <th>14</th>\n",
       "      <td>2022-09-27 22:10:00+00:00</td>\n",
       "      <td>CDCgov</td>\n",
       "      <td>RT @988Lifeline: If someone you know tells you...</td>\n",
       "    </tr>\n",
       "    <tr>\n",
       "      <th>15</th>\n",
       "      <td>2022-09-27 21:04:55+00:00</td>\n",
       "      <td>CDCgov</td>\n",
       "      <td>RT @CDCDiabetes: When Percy decided to take st...</td>\n",
       "    </tr>\n",
       "    <tr>\n",
       "      <th>16</th>\n",
       "      <td>2022-09-27 21:01:12+00:00</td>\n",
       "      <td>CDCgov</td>\n",
       "      <td>HCPs should consider EV-D68 as a cause of seve...</td>\n",
       "    </tr>\n",
       "    <tr>\n",
       "      <th>17</th>\n",
       "      <td>2022-09-27 21:01:11+00:00</td>\n",
       "      <td>CDCgov</td>\n",
       "      <td>A review of surveillance data showed increases...</td>\n",
       "    </tr>\n",
       "    <tr>\n",
       "      <th>18</th>\n",
       "      <td>2022-09-27 20:30:05+00:00</td>\n",
       "      <td>CDCgov</td>\n",
       "      <td>Use CDC's booster tool to find out what #COVID...</td>\n",
       "    </tr>\n",
       "    <tr>\n",
       "      <th>19</th>\n",
       "      <td>2022-09-27 20:00:11+00:00</td>\n",
       "      <td>CDCgov</td>\n",
       "      <td>Educate yourself and your loved ones about sep...</td>\n",
       "    </tr>\n",
       "    <tr>\n",
       "      <th>20</th>\n",
       "      <td>2022-09-27 19:10:02+00:00</td>\n",
       "      <td>CDCgov</td>\n",
       "      <td>This Hereditary Breast and Ovarian Cancer Week...</td>\n",
       "    </tr>\n",
       "    <tr>\n",
       "      <th>21</th>\n",
       "      <td>2022-09-27 18:43:02+00:00</td>\n",
       "      <td>CDCgov</td>\n",
       "      <td>From #COVID19 to #monkeypox, electronic case r...</td>\n",
       "    </tr>\n",
       "    <tr>\n",
       "      <th>22</th>\n",
       "      <td>2022-09-27 18:25:01+00:00</td>\n",
       "      <td>CDCgov</td>\n",
       "      <td>After an emergency or disaster, clean water ma...</td>\n",
       "    </tr>\n",
       "    <tr>\n",
       "      <th>23</th>\n",
       "      <td>2022-09-27 18:05:03+00:00</td>\n",
       "      <td>CDCgov</td>\n",
       "      <td>Want to learn more about monkeypox? Join Dr. C...</td>\n",
       "    </tr>\n",
       "    <tr>\n",
       "      <th>24</th>\n",
       "      <td>2022-09-27 17:52:20+00:00</td>\n",
       "      <td>CDCgov</td>\n",
       "      <td>RT @USAGov: Thank you for joining today’s #Get...</td>\n",
       "    </tr>\n",
       "    <tr>\n",
       "      <th>25</th>\n",
       "      <td>2022-09-27 17:46:08+00:00</td>\n",
       "      <td>CDCgov</td>\n",
       "      <td>RT @USAGov: Continue to learn from the #GetToK...</td>\n",
       "    </tr>\n",
       "    <tr>\n",
       "      <th>26</th>\n",
       "      <td>2022-09-27 17:40:15+00:00</td>\n",
       "      <td>CDCgov</td>\n",
       "      <td>A5: In addition to Twitter, we are also on Fac...</td>\n",
       "    </tr>\n",
       "    <tr>\n",
       "      <th>27</th>\n",
       "      <td>2022-09-27 17:37:46+00:00</td>\n",
       "      <td>CDCgov</td>\n",
       "      <td>RT @samhsagov: It's common to feel overwhelmed...</td>\n",
       "    </tr>\n",
       "    <tr>\n",
       "      <th>28</th>\n",
       "      <td>2022-09-27 17:35:23+00:00</td>\n",
       "      <td>CDCgov</td>\n",
       "      <td>RT @CDCEnvironment: A4: #DYK? CDC has apps tha...</td>\n",
       "    </tr>\n",
       "    <tr>\n",
       "      <th>29</th>\n",
       "      <td>2022-09-27 17:35:18+00:00</td>\n",
       "      <td>CDCgov</td>\n",
       "      <td>RT @CDCEnvironment: A4: CDC's Your Health – Yo...</td>\n",
       "    </tr>\n",
       "  </tbody>\n",
       "</table>\n",
       "</div>"
      ],
      "text/plain": [
       "                    Timeline    User  \\\n",
       "0  2022-09-28 21:12:47+00:00  CDCgov   \n",
       "1  2022-09-28 20:30:04+00:00  CDCgov   \n",
       "2  2022-09-28 20:20:31+00:00  CDCgov   \n",
       "3  2022-09-28 19:46:21+00:00  CDCgov   \n",
       "4  2022-09-28 19:03:59+00:00  CDCgov   \n",
       "5  2022-09-28 19:03:55+00:00  CDCgov   \n",
       "6  2022-09-28 19:03:46+00:00  CDCgov   \n",
       "7  2022-09-28 19:00:14+00:00  CDCgov   \n",
       "8  2022-09-28 17:12:06+00:00  CDCgov   \n",
       "9  2022-09-28 16:30:06+00:00  CDCgov   \n",
       "10 2022-09-28 16:14:41+00:00  CDCgov   \n",
       "11 2022-09-28 15:00:23+00:00  CDCgov   \n",
       "12 2022-09-28 13:33:40+00:00  CDCgov   \n",
       "13 2022-09-28 12:00:14+00:00  CDCgov   \n",
       "14 2022-09-27 22:10:00+00:00  CDCgov   \n",
       "15 2022-09-27 21:04:55+00:00  CDCgov   \n",
       "16 2022-09-27 21:01:12+00:00  CDCgov   \n",
       "17 2022-09-27 21:01:11+00:00  CDCgov   \n",
       "18 2022-09-27 20:30:05+00:00  CDCgov   \n",
       "19 2022-09-27 20:00:11+00:00  CDCgov   \n",
       "20 2022-09-27 19:10:02+00:00  CDCgov   \n",
       "21 2022-09-27 18:43:02+00:00  CDCgov   \n",
       "22 2022-09-27 18:25:01+00:00  CDCgov   \n",
       "23 2022-09-27 18:05:03+00:00  CDCgov   \n",
       "24 2022-09-27 17:52:20+00:00  CDCgov   \n",
       "25 2022-09-27 17:46:08+00:00  CDCgov   \n",
       "26 2022-09-27 17:40:15+00:00  CDCgov   \n",
       "27 2022-09-27 17:37:46+00:00  CDCgov   \n",
       "28 2022-09-27 17:35:23+00:00  CDCgov   \n",
       "29 2022-09-27 17:35:18+00:00  CDCgov   \n",
       "\n",
       "                                                tweet  \n",
       "0   RT @CDCEnvironment: Be safe if the power goes ...  \n",
       "1   #DYK you can get either Moderna or Pfizer-BioN...  \n",
       "2   RT @CDCEnvironment: Your area may be affected ...  \n",
       "3   RT @988Lifeline: As #SPM22 comes to an end rem...  \n",
       "4   RT @CDCDirector: CDC continues to work on a po...  \n",
       "5   RT @CDCDirector: Remember, JYNNEOS #monkeypox ...  \n",
       "6   RT @CDCDirector: Today, CDC posted preliminary...  \n",
       "7   CDC announces expanded eligibility for #monkey...  \n",
       "8   Monkeypox Update: As of Sept 27th , 66,551 con...  \n",
       "9   CDC announces expanded eligibility for monkeyp...  \n",
       "10  Prevent food poisoning from #CrossContaminatio...  \n",
       "11  Today is World Rabies Day! Learn how CDC and p...  \n",
       "12  RT @CDCemergency: #BeReady for a power outage....  \n",
       "13  Have you lost power? Keep your food at safe te...  \n",
       "14  RT @988Lifeline: If someone you know tells you...  \n",
       "15  RT @CDCDiabetes: When Percy decided to take st...  \n",
       "16  HCPs should consider EV-D68 as a cause of seve...  \n",
       "17  A review of surveillance data showed increases...  \n",
       "18  Use CDC's booster tool to find out what #COVID...  \n",
       "19  Educate yourself and your loved ones about sep...  \n",
       "20  This Hereditary Breast and Ovarian Cancer Week...  \n",
       "21  From #COVID19 to #monkeypox, electronic case r...  \n",
       "22  After an emergency or disaster, clean water ma...  \n",
       "23  Want to learn more about monkeypox? Join Dr. C...  \n",
       "24  RT @USAGov: Thank you for joining today’s #Get...  \n",
       "25  RT @USAGov: Continue to learn from the #GetToK...  \n",
       "26  A5: In addition to Twitter, we are also on Fac...  \n",
       "27  RT @samhsagov: It's common to feel overwhelmed...  \n",
       "28  RT @CDCEnvironment: A4: #DYK? CDC has apps tha...  \n",
       "29  RT @CDCEnvironment: A4: CDC's Your Health – Yo...  "
      ]
     },
     "execution_count": 11,
     "metadata": {},
     "output_type": "execute_result"
    }
   ],
   "source": [
    "#Show top 30 rows\n",
    "data.head(30)"
   ]
  },
  {
   "cell_type": "markdown",
   "id": "85a1fa30",
   "metadata": {},
   "source": [
    "**f. Save the most recent 30 tweets in `cdcgov.txt` file ⬇️**"
   ]
  },
  {
   "cell_type": "code",
   "execution_count": 15,
   "id": "c03687ae",
   "metadata": {},
   "outputs": [],
   "source": [
    "import numpy as np\n",
    "\n",
    "twt = data.head(30)['tweet'].to_numpy()\n",
    "\n",
    "np.savetxt(\"cdcgov.txt\", twt, fmt='%s')"
   ]
  },
  {
   "cell_type": "markdown",
   "id": "09caa083",
   "metadata": {},
   "source": [
    "## Question 3. \n",
    "#### Downloading tweets containing the keyword “politics” with time limit to 60s. Save result in `politics.json` file"
   ]
  },
  {
   "cell_type": "code",
   "execution_count": 16,
   "id": "6f301800",
   "metadata": {},
   "outputs": [],
   "source": [
    "import time\n",
    "import json"
   ]
  },
  {
   "cell_type": "code",
   "execution_count": 22,
   "id": "6e1a1ff7",
   "metadata": {},
   "outputs": [],
   "source": [
    "# Create a StreamListener class \n",
    "class MyListener(tweepy.StreamingClient):\n",
    "    def __init__(self, bearer_token, time_limit=60):\n",
    "        self.start_time = time.time()\n",
    "        self.limit = time_limit\n",
    "        self.outFile = open('politics.json', 'a', encoding='utf-8')\n",
    "        super(MyListener, self).__init__(bearer_token)\n",
    "    \n",
    "    def on_data(self, data):\n",
    "        if (time.time() - self.start_time) < self.limit:\n",
    "            self.outFile.write(data.decode('utf-8'))\n",
    "            self.outFile.write('\\n')\n",
    "        else:\n",
    "            self.outFile.close()\n",
    "            self.disconnect()\n",
    "\n",
    "    def on_error(self, status):\n",
    "        print(status)"
   ]
  },
  {
   "cell_type": "code",
   "execution_count": 64,
   "id": "9d674684",
   "metadata": {},
   "outputs": [],
   "source": [
    "BEARER_TOKEN = config['twitter']['bearer_token']"
   ]
  },
  {
   "cell_type": "code",
   "execution_count": 24,
   "id": "f5f2b003",
   "metadata": {},
   "outputs": [
    {
     "name": "stderr",
     "output_type": "stream",
     "text": [
      "Stream connection closed by Twitter\n"
     ]
    },
    {
     "data": {
      "text/plain": [
       "Response(data=[StreamRule(value='politics', tag=None, id='1575269469286502400'), StreamRule(value='\"politics\"', tag=None, id='1575269997672366083')], includes={}, errors=[], meta={'sent': '2022-09-28T23:50:46.216Z', 'result_count': 2})"
      ]
     },
     "execution_count": 24,
     "metadata": {},
     "output_type": "execute_result"
    }
   ],
   "source": [
    "streaming_client = MyListener(BEARER_TOKEN)\n",
    "streaming_client.add_rules(tweepy.StreamRule('\"politics\"'))\n",
    "streaming_client.filter()\n",
    "streaming_client.get_rules()"
   ]
  },
  {
   "cell_type": "markdown",
   "id": "3bcb3872",
   "metadata": {},
   "source": [
    "**Just fro fun, let's have a look of the file we saved**"
   ]
  },
  {
   "cell_type": "code",
   "execution_count": 63,
   "id": "aece6229",
   "metadata": {},
   "outputs": [
    {
     "data": {
      "text/plain": [
       "list"
      ]
     },
     "execution_count": 63,
     "metadata": {},
     "output_type": "execute_result"
    }
   ],
   "source": [
    "data = [json.loads(line) for line in open('politics.json', 'r')]\n",
    "type(data)"
   ]
  },
  {
   "cell_type": "code",
   "execution_count": 70,
   "id": "45d17a0b",
   "metadata": {},
   "outputs": [
    {
     "data": {
      "text/plain": [
       "(281,)"
      ]
     },
     "execution_count": 70,
     "metadata": {},
     "output_type": "execute_result"
    }
   ],
   "source": [
    "dt = np.array(data)\n",
    "dt.shape"
   ]
  },
  {
   "cell_type": "code",
   "execution_count": 73,
   "id": "4fa18816",
   "metadata": {},
   "outputs": [
    {
     "data": {
      "text/plain": [
       "array([{'data': {'id': '1575271576139976705', 'text': 'RT @JDCocchiarella: Democrats don’t decide which states they send relief funds to based on who voted for them because they put people above…'}, 'matching_rules': [{'id': '1575269469286502400', 'tag': ''}, {'id': '1575269997672366083', 'tag': ''}]},\n",
       "       {'data': {'id': '1575271575573897216', 'text': 'RT @1chetanrajhans: ‘पीएफआय’ वर बंदी हा अंतर्गत दहशतवादावर ‘सर्जिकल स्ट्राइक’ https://t.co/ipNiGOiNwc'}, 'matching_rules': [{'id': '1575269469286502400', 'tag': ''}, {'id': '1575269997672366083', 'tag': ''}]},\n",
       "       {'data': {'id': '1575271576379002880', 'text': 'Russia’s wartime arsenal now appears to include sabotage of underwater pipelines.\\nhttps://t.co/2fvFU11BAN'}, 'matching_rules': [{'id': '1575269469286502400', 'tag': ''}, {'id': '1575269997672366083', 'tag': ''}]},\n",
       "       {'data': {'id': '1575271575238082561', 'text': '@joannaccherry Record level of bullshit in your tweets!'}, 'matching_rules': [{'id': '1575269469286502400', 'tag': ''}, {'id': '1575269997672366083', 'tag': ''}]},\n",
       "       {'data': {'id': '1575271573107642368', 'text': 'RT @RosieRocks29: In any other job, Trudeau would be in jail.\\n#TrudeauMustGoToJail\\nhttps://t.co/H00mIIFb12'}, 'matching_rules': [{'id': '1575269469286502400', 'tag': ''}, {'id': '1575269997672366083', 'tag': ''}]}],\n",
       "      dtype=object)"
      ]
     },
     "execution_count": 73,
     "metadata": {},
     "output_type": "execute_result"
    }
   ],
   "source": [
    "dt[0:5]"
   ]
  },
  {
   "cell_type": "code",
   "execution_count": null,
   "id": "6b26a34b",
   "metadata": {},
   "outputs": [],
   "source": []
  }
 ],
 "metadata": {
  "kernelspec": {
   "display_name": "Python 3 (ipykernel)",
   "language": "python",
   "name": "python3"
  },
  "language_info": {
   "codemirror_mode": {
    "name": "ipython",
    "version": 3
   },
   "file_extension": ".py",
   "mimetype": "text/x-python",
   "name": "python",
   "nbconvert_exporter": "python",
   "pygments_lexer": "ipython3",
   "version": "3.9.12"
  },
  "vscode": {
   "interpreter": {
    "hash": "aee8b7b246df8f9039afb4144a1f6fd8d2ca17a180786b69acc140d282b71a49"
   }
  }
 },
 "nbformat": 4,
 "nbformat_minor": 5
}
